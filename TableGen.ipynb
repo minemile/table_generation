{
 "cells": [
  {
   "cell_type": "code",
   "execution_count": 38,
   "id": "1c2b18a8-bd1a-4324-af89-f94d86eec25d",
   "metadata": {
    "pycharm": {
     "is_executing": true
    }
   },
   "outputs": [
    {
     "name": "stdout",
     "output_type": "stream",
     "text": [
      "The autoreload extension is already loaded. To reload it, use:\n",
      "  %reload_ext autoreload\n"
     ]
    }
   ],
   "source": [
    "%load_ext autoreload\n",
    "%autoreload 2\n",
    "    \n",
    "from yattag import Doc\n",
    "from yattag import indent\n",
    "\n",
    "from IPython.core.display import display, HTML\n",
    "from IPython.display import IFrame\n",
    "\n",
    "from jinja2 import Template\n",
    "from selenium import webdriver\n",
    "from selenium.webdriver.chrome.options import Options\n",
    "from webdriver_manager.chrome import ChromeDriverManager\n",
    "from table_parser import TableParser\n",
    "import matplotlib.pyplot as plt\n",
    "import os\n",
    "import cv2\n",
    "\n",
    "from bs4 import BeautifulSoup\n",
    "import json\n",
    "import random\n",
    "import numpy as np\n",
    "\n",
    "\n",
    "from table_generation import RandomTableGenerator\n",
    "from table_style import CSSGenerator, CSSProperty\n",
    "from html_generator import HTMLTableGenerator, WordGenerator, HTMLTableGeneratorByTemplate, TableStructure, SpanGenerator"
   ]
  },
  {
   "cell_type": "markdown",
   "id": "35213e06-7412-4a89-b606-e120a1ca5cdc",
   "metadata": {},
   "source": [
    "### CSS generator"
   ]
  },
  {
   "cell_type": "code",
   "execution_count": 39,
   "id": "322e770c-9a40-4a42-9fbd-40f9bf274143",
   "metadata": {
    "pycharm": {
     "is_executing": true
    },
    "tags": []
   },
   "outputs": [],
   "source": [
    "with open(\"css/style_template.css\") as f:\n",
    "    css_template_str = f.read()\n",
    "\n",
    "with open(\"css/css_properties.json\") as f:\n",
    "    css_default_params = json.load(f)\n",
    "\n",
    "css_generator = CSSGenerator(css_template_str)\n",
    "\n",
    "for key, value in css_default_params.items():\n",
    "    css_generator.add_property(CSSProperty(key, value))"
   ]
  },
  {
   "cell_type": "code",
   "execution_count": 40,
   "id": "0c54edff-28df-45c7-b029-f91eb02aa1b1",
   "metadata": {
    "pycharm": {
     "is_executing": true
    }
   },
   "outputs": [],
   "source": [
    "css = css_generator.generate()"
   ]
  },
  {
   "cell_type": "code",
   "execution_count": 41,
   "id": "9a6261f7-3084-4cd8-a438-7fc85cf253ec",
   "metadata": {
    "pycharm": {
     "is_executing": true
    }
   },
   "outputs": [
    {
     "name": "stdout",
     "output_type": "stream",
     "text": [
      "html {\n",
      "    height:100%;\n",
      "    width:100%;\n",
      "    margin:0;\n",
      "    padding:0;\n",
      "}\n",
      "\n",
      "body {\n",
      "    margin:0;\n",
      "    padding:0;\n",
      "    background-color: transparent;\n",
      "}\n",
      "\n",
      "@font-face {\n",
      "    font-family: 'pickedfont';\n",
      "    src: url(/Users/19592219/git/table_generation/data/fonts/en/BEBAS___.ttf);\n",
      "}\n",
      "\n",
      "table {\n",
      "  font-family: pickedfont;\n",
      "  border-collapse: collapse;\n",
      "  font-size: 16,\n",
      "  width: 75%;\n",
      "  height: 75%;\n",
      "}\n",
      "\n",
      "td {\n",
      "  /* border:  solid black; */\n",
      "  text-align: center;\n",
      "  border-left: solid black 0px;\n",
      "  border-right: solid black 0px;\n",
      "  border-top: solid black 0px;\n",
      "  border-bottom: solid black 0px;\n",
      "}\n",
      "\n",
      "tr:nth-child(odd) {\n",
      "  background-color: none;\n",
      "}\n",
      "\n",
      "th {\n",
      "  background-color: none;\n",
      "  border: 1px solid none;\n",
      "}\n"
     ]
    }
   ],
   "source": [
    "print(css.css)"
   ]
  },
  {
   "cell_type": "markdown",
   "id": "b25e84fb-5faf-43b4-8f32-fe90586845c4",
   "metadata": {},
   "source": [
    "### Word generator"
   ]
  },
  {
   "cell_type": "code",
   "execution_count": 42,
   "id": "ef0ee28f-2e15-4786-a880-bc40bc1f7b74",
   "metadata": {
    "pycharm": {
     "is_executing": true
    }
   },
   "outputs": [],
   "source": [
    "words = []\n",
    "# with open(\"words_alpha.txt\") as f:\n",
    "#     for line in f:\n",
    "#         words.append(line.strip())\n",
    "with open(\"data/russian.txt\", encoding='utf-8') as f:\n",
    "    for line in f:\n",
    "        words.append(line.strip())\n",
    "word_generator = WordGenerator(words, n_max=6, p=0.5)"
   ]
  },
  {
   "cell_type": "markdown",
   "id": "b51590b4-1292-4e6f-8414-257b7be872a5",
   "metadata": {},
   "source": [
    "### HTML Template generator"
   ]
  },
  {
   "cell_type": "code",
   "execution_count": 43,
   "id": "ecaa1cec-50c3-41c0-9627-4a210db6eb81",
   "metadata": {
    "pycharm": {
     "is_executing": true
    }
   },
   "outputs": [],
   "source": [
    "with open(\"html_templates/fin_table.html\") as f:\n",
    "    html_template_str = f.read()\n",
    "    \n",
    "html_generator = HTMLTableGeneratorByTemplate(word_generator, html_template_str)\n",
    "html_table = html_generator.generate()"
   ]
  },
  {
   "cell_type": "code",
   "execution_count": 44,
   "id": "f1e9fafc-7481-42e8-8c8d-23d25cbb95a4",
   "metadata": {
    "pycharm": {
     "is_executing": true
    }
   },
   "outputs": [
    {
     "data": {
      "text/plain": [
       "<html>\n",
       "<head>\n",
       "<link href=\"style.css\" rel=\"stylesheet\"/>\n",
       "</head>\n",
       "<body>\n",
       "<table class=\"iksweb\">\n",
       "<tbody>\n",
       "<tr>\n",
       "<th colspan=\"6\"><word>заражение\n",
       "</word><word>затопать\n",
       "</word><word>дэйв\n",
       "</word><word>ленинград\n",
       "</word></th>\n",
       "</tr>\n",
       "<tr>\n",
       "<td colspan=\"4\"><word>гомеостаз\n",
       "</word><word>оттягивать\n",
       "</word><word>асессор\n",
       "</word></td>\n",
       "<td colspan=\"2\"><word>53549.40868890\n",
       "</word></td>\n",
       "</tr>\n",
       "<tr>\n",
       "<td colspan=\"4\"><word>ролевый\n",
       "</word><word>безграничный\n",
       "</word><word>фотографический\n",
       "</word><word>цап\n",
       "</word></td>\n",
       "<td><word>подкосить\n",
       "</word><word>застать\n",
       "</word><word>капиталистический\n",
       "</word><word>винокуров\n",
       "</word></td>\n",
       "<td><word>проходимый\n",
       "</word><word>существительное\n",
       "</word><word>плутон\n",
       "</word><word>леонова\n",
       "</word><word>штурмовой\n",
       "</word></td>\n",
       "</tr>\n",
       "<tr>\n",
       "<td colspan=\"4\"><word>непредвзято\n",
       "</word><word>такс\n",
       "</word><word>фора\n",
       "</word></td>\n",
       "<td><word>фемида\n",
       "</word><word>начитать\n",
       "</word><word>кп\n",
       "</word><word>платить\n",
       "</word><word>самопальный\n",
       "</word></td>\n",
       "<td><word>92204.323\n",
       "</word></td>\n",
       "</tr>\n",
       "<tr>\n",
       "<td colspan=\"4\"><word>душевой\n",
       "</word><word>обсессивно\n",
       "</word><word>лель\n",
       "</word><word>искариот\n",
       "</word><word>традиционный\n",
       "</word></td>\n",
       "<td colspan=\"2\"><word>5182\n",
       "</word></td>\n",
       "</tr>\n",
       "<tr>\n",
       "<th colspan=\"6\"><word>-64639.0645\n",
       "</word></th>\n",
       "</tr>\n",
       "<tr>\n",
       "<td colspan=\"2\"><word>неуверить\n",
       "</word><word>дисплей\n",
       "</word><word>толочься\n",
       "</word></td>\n",
       "<td colspan=\"2\"><word>болтон\n",
       "</word><word>отвергать\n",
       "</word><word>полметр\n",
       "</word><word>хохотнуть\n",
       "</word></td>\n",
       "<td colspan=\"2\"><word>горючий\n",
       "</word></td>\n",
       "</tr>\n",
       "<tr>\n",
       "<td><word>-39099.55795\n",
       "</word></td>\n",
       "<td><word>99606.13496\n",
       "</word></td>\n",
       "<td><word>многомиллиардный\n",
       "</word><word>заносчивость\n",
       "</word><word>простительный\n",
       "</word><word>внезапно\n",
       "</word></td>\n",
       "<td><word>66744.1143\n",
       "</word></td>\n",
       "<td><word>обогнать\n",
       "</word><word>итать\n",
       "</word></td>\n",
       "<td><word>вставлять\n",
       "</word><word>камал\n",
       "</word><word>пререкаться\n",
       "</word></td>\n",
       "</tr>\n",
       "<tr>\n",
       "<td><word>мыкаться\n",
       "</word><word>френсик\n",
       "</word><word>товарищеский\n",
       "</word><word>рыцарский\n",
       "</word><word>релаксация\n",
       "</word></td>\n",
       "<td><word>назойливость\n",
       "</word><word>запачкать\n",
       "</word><word>причинность\n",
       "</word></td>\n",
       "<td><word>-62565.100\n",
       "</word></td>\n",
       "<td><word>31464.75971938\n",
       "</word></td>\n",
       "<td><word>пиарщик\n",
       "</word><word>гигиена\n",
       "</word><word>мортира\n",
       "</word></td>\n",
       "<td><word>логинов\n",
       "</word><word>всеведущий\n",
       "</word><word>гайдай\n",
       "</word></td>\n",
       "</tr>\n",
       "<tr>\n",
       "<td colspan=\"4\"><word>хунта\n",
       "</word></td>\n",
       "<td colspan=\"2\"><word>53981\n",
       "</word></td>\n",
       "</tr>\n",
       "</tbody>\n",
       "</table>\n",
       "</body>\n",
       "</html>"
      ]
     },
     "execution_count": 44,
     "metadata": {},
     "output_type": "execute_result"
    }
   ],
   "source": [
    "html_table.html"
   ]
  },
  {
   "cell_type": "markdown",
   "id": "c1578949-1400-4c67-a92d-0d3de5316c23",
   "metadata": {},
   "source": [
    "### Random Table Generator"
   ]
  },
  {
   "cell_type": "code",
   "execution_count": 45,
   "id": "7c74309f-759d-420a-9503-86d46b0cfe79",
   "metadata": {
    "pycharm": {
     "is_executing": true
    }
   },
   "outputs": [],
   "source": [
    "random_table_generator = RandomTableGenerator(html_generator, css_generator)\n",
    "full_table = random_table_generator.generate(name='fin_table')\n",
    "full_table.save(\"output/\")"
   ]
  },
  {
   "cell_type": "markdown",
   "id": "e61a2177-61a9-4d62-9575-03ba42a6fea2",
   "metadata": {},
   "source": [
    "### Table parser"
   ]
  },
  {
   "cell_type": "code",
   "execution_count": 62,
   "id": "f11bd290-6c28-465f-92df-fb026727698b",
   "metadata": {
    "pycharm": {
     "is_executing": true
    }
   },
   "outputs": [],
   "source": [
    "chrome_options = Options()\n",
    "chrome_options.add_argument(\"disable-extensions\")\n",
    "chrome_options.add_argument(\"window-position=0,0\")\n",
    "# if random.random()<0.5:\n",
    "#     w,h = random.randint(500,1000),random.randint(500,1000)\n",
    "#     chrome_options.add_argument(f\"window-size={w},{h}\")\n",
    "#     print(w,h)\n",
    "# else:\n",
    "#     print('natural fit')\n",
    "chrome_options.add_argument(\"--hide-scrollbars\")\n",
    "\n",
    "chrome_options.add_argument(\"headless\")\n",
    "\n",
    "table_parser = TableParser(chrome_options)\n",
    "parsed_table = table_parser.parse_table(\"output/random_table/1/\")"
   ]
  },
  {
   "cell_type": "code",
   "execution_count": 63,
   "id": "4b6bab8c-3d8b-4656-935f-fae15648a20c",
   "metadata": {
    "pycharm": {
     "is_executing": true
    }
   },
   "outputs": [
    {
     "data": {
      "text/plain": [
       "<matplotlib.image.AxesImage at 0x7fcf9369e4f0>"
      ]
     },
     "execution_count": 63,
     "metadata": {},
     "output_type": "execute_result"
    },
    {
     "data": {
      "image/png": "[encoded data removed]",
      "text/plain": [
       "<Figure size 1152x1152 with 1 Axes>"
      ]
     },
     "metadata": {
      "needs_background": "light"
     },
     "output_type": "display_data"
    }
   ],
   "source": [
    "plt.figure(figsize=(16, 16))\n",
    "plt.imshow(parsed_table.draw_bboxes())"
   ]
  },
  {
   "cell_type": "code",
   "execution_count": 48,
   "id": "3dd130a6-2c59-4e8c-a112-bcb6ede7ab3b",
   "metadata": {
    "pycharm": {
     "is_executing": true
    }
   },
   "outputs": [],
   "source": [
    "parsed_table.to_annotations()"
   ]
  },
  {
   "cell_type": "markdown",
   "id": "aba151c2-b4e4-4b96-98df-9d1bdd8566d4",
   "metadata": {},
   "source": [
    "### HTML table generation"
   ]
  },
  {
   "cell_type": "code",
   "execution_count": 49,
   "id": "959eb7a9-d25d-4978-baf7-2c91bec4efdf",
   "metadata": {
    "pycharm": {
     "is_executing": true
    }
   },
   "outputs": [
    {
     "data": {
      "text/html": [
       "<html>\n",
       "  <head>\n",
       "    <link rel=\"stylesheet\" href=\"style.css\" />\n",
       "  </head>\n",
       "  <body>\n",
       "    <table>\n",
       "      <tr>\n",
       "        <td>\n",
       "          <word>11764.10308</word>\n",
       "        </td>\n",
       "        <td>\n",
       "          <word>11520.82555644</word>\n",
       "        </td>\n",
       "        <td>\n",
       "          <word>-50490.5660442</word>\n",
       "        </td>\n",
       "        <td>\n",
       "          <word>дарование</word>\n",
       "          <word>фа</word>\n",
       "        </td>\n",
       "        <td>\n",
       "          <word>94022</word>\n",
       "        </td>\n",
       "      </tr>\n",
       "      <tr>\n",
       "        <td>\n",
       "          <word>обстановка</word>\n",
       "          <word>подсолнечный</word>\n",
       "          <word>артемий</word>\n",
       "        </td>\n",
       "        <td>\n",
       "          <word>52216.9042</word>\n",
       "        </td>\n",
       "        <td>\n",
       "          <word>-17881.2543</word>\n",
       "        </td>\n",
       "        <td>\n",
       "          <word>-15265.3620652</word>\n",
       "        </td>\n",
       "        <td>\n",
       "          <word>-49339</word>\n",
       "        </td>\n",
       "      </tr>\n",
       "      <tr>\n",
       "        <td>\n",
       "          <word>ночлежка</word>\n",
       "          <word>соборность</word>\n",
       "          <word>материнка</word>\n",
       "          <word>инкогнито</word>\n",
       "        </td>\n",
       "        <td>\n",
       "          <word>69238.2077793</word>\n",
       "        </td>\n",
       "        <td>\n",
       "          <word>27269.28</word>\n",
       "        </td>\n",
       "        <td>\n",
       "          <word>стелиться</word>\n",
       "          <word>аналитический</word>\n",
       "          <word>антимонопольный</word>\n",
       "        </td>\n",
       "        <td>\n",
       "          <word>58186.1</word>\n",
       "        </td>\n",
       "      </tr>\n",
       "      <tr>\n",
       "        <td>\n",
       "          <word>хант</word>\n",
       "          <word>единовременный</word>\n",
       "          <word>заползти</word>\n",
       "          <word>левада</word>\n",
       "        </td>\n",
       "        <td>\n",
       "          <word>92536.65846</word>\n",
       "        </td>\n",
       "        <td>\n",
       "          <word>-92705.865</word>\n",
       "        </td>\n",
       "        <td>\n",
       "          <word>96070.14136501</word>\n",
       "        </td>\n",
       "        <td>\n",
       "          <word>10980</word>\n",
       "        </td>\n",
       "      </tr>\n",
       "      <tr>\n",
       "        <td>\n",
       "          <word>детдомовский</word>\n",
       "          <word>либидо</word>\n",
       "          <word>предаваться</word>\n",
       "          <word>адаптивный</word>\n",
       "        </td>\n",
       "        <td>\n",
       "          <word>фактура</word>\n",
       "          <word>придть</word>\n",
       "          <word>обстрел</word>\n",
       "          <word>картография</word>\n",
       "          <word>чудаковатый</word>\n",
       "        </td>\n",
       "        <td>\n",
       "          <word>46554.961163</word>\n",
       "        </td>\n",
       "        <td>\n",
       "          <word>недоедать</word>\n",
       "          <word>рейтер</word>\n",
       "          <word>газон</word>\n",
       "        </td>\n",
       "        <td></td>\n",
       "      </tr>\n",
       "    </table>\n",
       "  </body>\n",
       "</html>"
      ],
      "text/plain": [
       "<IPython.core.display.HTML object>"
      ]
     },
     "metadata": {},
     "output_type": "display_data"
    }
   ],
   "source": [
    "n_rows = 5\n",
    "n_cols = 5\n",
    "add_header = False\n",
    "\n",
    "merge_rows_indx = [-1]\n",
    "# merge_cols_indx = [2, 4]\n",
    "merge_cols_indx = [-1]\n",
    "\n",
    "# table_structure = TableStructure(merge_rows_indx, merge_cols_indx)\n",
    "# table_structure = TableStructure(merge_rows_indx, None)\n",
    "table_structure = TableStructure([], merge_cols_indx)\n",
    "html_generator = HTMLTableGenerator(word_generator, n_rows, n_cols, add_header=add_header, table_structure=table_structure)\n",
    "html_table = html_generator.generate()\n",
    "display(HTML(html_table.html))"
   ]
  },
  {
   "cell_type": "code",
   "execution_count": 50,
   "id": "a18ed786-26cc-4923-9507-07f8e119f271",
   "metadata": {
    "pycharm": {
     "is_executing": true
    }
   },
   "outputs": [
    {
     "name": "stdout",
     "output_type": "stream",
     "text": [
      "<html>\n",
      "  <head>\n",
      "    <link rel=\"stylesheet\" href=\"style.css\" />\n",
      "  </head>\n",
      "  <body>\n",
      "    <table>\n",
      "      <tr>\n",
      "        <td>\n",
      "          <word>11764.10308</word>\n",
      "        </td>\n",
      "        <td>\n",
      "          <word>11520.82555644</word>\n",
      "        </td>\n",
      "        <td>\n",
      "          <word>-50490.5660442</word>\n",
      "        </td>\n",
      "        <td>\n",
      "          <word>дарование</word>\n",
      "          <word>фа</word>\n",
      "        </td>\n",
      "        <td>\n",
      "          <word>94022</word>\n",
      "        </td>\n",
      "      </tr>\n",
      "      <tr>\n",
      "        <td>\n",
      "          <word>обстановка</word>\n",
      "          <word>подсолнечный</word>\n",
      "          <word>артемий</word>\n",
      "        </td>\n",
      "        <td>\n",
      "          <word>52216.9042</word>\n",
      "        </td>\n",
      "        <td>\n",
      "          <word>-17881.2543</word>\n",
      "        </td>\n",
      "        <td>\n",
      "          <word>-15265.3620652</word>\n",
      "        </td>\n",
      "        <td>\n",
      "          <word>-49339</word>\n",
      "        </td>\n",
      "      </tr>\n",
      "      <tr>\n",
      "        <td>\n",
      "          <word>ночлежка</word>\n",
      "          <word>соборность</word>\n",
      "          <word>материнка</word>\n",
      "          <word>инкогнито</word>\n",
      "        </td>\n",
      "        <td>\n",
      "          <word>69238.2077793</word>\n",
      "        </td>\n",
      "        <td>\n",
      "          <word>27269.28</word>\n",
      "        </td>\n",
      "        <td>\n",
      "          <word>стелиться</word>\n",
      "          <word>аналитический</word>\n",
      "          <word>антимонопольный</word>\n",
      "        </td>\n",
      "        <td>\n",
      "          <word>58186.1</word>\n",
      "        </td>\n",
      "      </tr>\n",
      "      <tr>\n",
      "        <td>\n",
      "          <word>хант</word>\n",
      "          <word>единовременный</word>\n",
      "          <word>заползти</word>\n",
      "          <word>левада</word>\n",
      "        </td>\n",
      "        <td>\n",
      "          <word>92536.65846</word>\n",
      "        </td>\n",
      "        <td>\n",
      "          <word>-92705.865</word>\n",
      "        </td>\n",
      "        <td>\n",
      "          <word>96070.14136501</word>\n",
      "        </td>\n",
      "        <td>\n",
      "          <word>10980</word>\n",
      "        </td>\n",
      "      </tr>\n",
      "      <tr>\n",
      "        <td>\n",
      "          <word>детдомовский</word>\n",
      "          <word>либидо</word>\n",
      "          <word>предаваться</word>\n",
      "          <word>адаптивный</word>\n",
      "        </td>\n",
      "        <td>\n",
      "          <word>фактура</word>\n",
      "          <word>придть</word>\n",
      "          <word>обстрел</word>\n",
      "          <word>картография</word>\n",
      "          <word>чудаковатый</word>\n",
      "        </td>\n",
      "        <td>\n",
      "          <word>46554.961163</word>\n",
      "        </td>\n",
      "        <td>\n",
      "          <word>недоедать</word>\n",
      "          <word>рейтер</word>\n",
      "          <word>газон</word>\n",
      "        </td>\n",
      "        <td></td>\n",
      "      </tr>\n",
      "    </table>\n",
      "  </body>\n",
      "</html>\n"
     ]
    }
   ],
   "source": [
    "print(html_table.html)"
   ]
  },
  {
   "cell_type": "markdown",
   "id": "989b692a-b2af-4c4b-a2ba-9ca7ddcff10c",
   "metadata": {},
   "source": [
    "### Spans"
   ]
  },
  {
   "cell_type": "code",
   "execution_count": 51,
   "id": "dda6cedb-8b04-4921-848a-4ba9d1919058",
   "metadata": {
    "pycharm": {
     "is_executing": true
    }
   },
   "outputs": [
    {
     "ename": "TypeError",
     "evalue": "__init__() got an unexpected keyword argument 'col_indxes'",
     "output_type": "error",
     "traceback": [
      "\u001b[0;31m---------------------------------------------------------------------------\u001b[0m",
      "\u001b[0;31mTypeError\u001b[0m                                 Traceback (most recent call last)",
      "\u001b[0;32m/var/folders/ft/4ndl7f9d1yjb1qhflwgy2vcsv8knpc/T/ipykernel_68427/817304365.py\u001b[0m in \u001b[0;36m<module>\u001b[0;34m\u001b[0m\n\u001b[0;32m----> 1\u001b[0;31m \u001b[0mspan_generator\u001b[0m \u001b[0;34m=\u001b[0m \u001b[0mSpanGenerator\u001b[0m\u001b[0;34m(\u001b[0m\u001b[0mcol_indxes\u001b[0m\u001b[0;34m=\u001b[0m\u001b[0;34m{\u001b[0m\u001b[0;36m2\u001b[0m\u001b[0;34m:\u001b[0m \u001b[0;36m2\u001b[0m\u001b[0;34m}\u001b[0m\u001b[0;34m,\u001b[0m \u001b[0mrow_indxes\u001b[0m\u001b[0;34m=\u001b[0m\u001b[0;34m{\u001b[0m\u001b[0;36m2\u001b[0m\u001b[0;34m:\u001b[0m \u001b[0;36m2\u001b[0m\u001b[0;34m}\u001b[0m\u001b[0;34m)\u001b[0m\u001b[0;34m\u001b[0m\u001b[0;34m\u001b[0m\u001b[0m\n\u001b[0m",
      "\u001b[0;31mTypeError\u001b[0m: __init__() got an unexpected keyword argument 'col_indxes'"
     ]
    }
   ],
   "source": [
    "span_generator = SpanGenerator(col_indxes={2: 2}, row_indxes={2: 2})"
   ]
  },
  {
   "cell_type": "code",
   "execution_count": null,
   "id": "fcbebb9d-dd6d-49da-b53e-5fd9c3194517",
   "metadata": {
    "pycharm": {
     "is_executing": true
    }
   },
   "outputs": [],
   "source": [
    "spans_table = span_generator.add_spans(html_table)"
   ]
  },
  {
   "cell_type": "code",
   "execution_count": null,
   "id": "872dc86c-13a9-4919-b47c-35c1ddba0a10",
   "metadata": {
    "pycharm": {
     "is_executing": true
    }
   },
   "outputs": [],
   "source": [
    "display(HTML(spans_table.html))"
   ]
  },
  {
   "cell_type": "code",
   "execution_count": null,
   "id": "ad152ec6-abf6-4a69-8c14-a1bd25e3f255",
   "metadata": {
    "pycharm": {
     "is_executing": true
    }
   },
   "outputs": [],
   "source": [
    "# print(spans_table.html)"
   ]
  },
  {
   "cell_type": "markdown",
   "id": "ee1f29c2-e1ed-4cf6-b02e-16630e718b5f",
   "metadata": {},
   "source": [
    "### Random Table"
   ]
  },
  {
   "cell_type": "code",
   "execution_count": null,
   "id": "646c1a62-609c-4058-ac2e-c70748b03da7",
   "metadata": {
    "pycharm": {
     "is_executing": true
    }
   },
   "outputs": [],
   "source": [
    "random_table_generator = RandomTableGenerator(html_generator, css_generator)\n",
    "full_table = random_table_generator.generate(name='random_table')\n",
    "full_table.save(\"output/\")"
   ]
  },
  {
   "cell_type": "code",
   "execution_count": null,
   "id": "640c935a-a1d2-48de-9ab5-ae14c328e1af",
   "metadata": {
    "pycharm": {
     "is_executing": true
    }
   },
   "outputs": [],
   "source": [
    "parsed_table = table_parser.parse_table(\"output/random_table/\")"
   ]
  },
  {
   "cell_type": "code",
   "execution_count": null,
   "id": "1542eda8-0043-4ac2-b016-b63d879a687e",
   "metadata": {
    "pycharm": {
     "is_executing": true
    }
   },
   "outputs": [],
   "source": [
    "plt.figure(figsize=(16, 16))\n",
    "plt.imshow(parsed_table.draw_bboxes())"
   ]
  },
  {
   "cell_type": "markdown",
   "id": "1565930e-0ec5-4450-ad6d-bb0bb4ec4cfa",
   "metadata": {},
   "source": [
    "### Multiple Table generations"
   ]
  },
  {
   "cell_type": "code",
   "execution_count": null,
   "id": "1b4d991a-1006-4254-b644-52ac0a998501",
   "metadata": {
    "pycharm": {
     "is_executing": true
    }
   },
   "outputs": [],
   "source": [
    "with open(\"css/style_template.css\") as f:\n",
    "    css_template_str = f.read()\n",
    "    \n",
    "with open(\"css/css_properties.json\") as f:\n",
    "    css_default_params = json.load(f)\n",
    "\n",
    "css_generator = CSSGenerator(css_template_str)\n",
    "\n",
    "for key, value in css_default_params.items():\n",
    "    css_generator.add_property(CSSProperty(key, value))\n",
    "    \n",
    "with open(\"html_templates/fin_table.html\") as f:\n",
    "    html_template_str = f.read()\n",
    "\n",
    "# html_generator = HTMLTableGenerator(word_generator, i, j, add_header=False)\n",
    "# html_generator = HTMLTableGeneratorByTemplate(word_generator, html_template_str)\n",
    "\n",
    "# html_table = html_generator.generate()"
   ]
  },
  {
   "cell_type": "code",
   "execution_count": null,
   "id": "f564d3d2-266d-48f1-8e8c-44bbd6b23f76",
   "metadata": {
    "pycharm": {
     "is_executing": true
    }
   },
   "outputs": [],
   "source": [
    "# With no spans\n",
    "for i in range(4, 8):\n",
    "    for j in range(4, 8):\n",
    "        html_generator = HTMLTableGenerator(word_generator, i, j, add_header=False)\n",
    "        random_table_generator = RandomTableGenerator(html_generator, css_generator)\n",
    "        for k in range(50, 100):\n",
    "            full_table = random_table_generator.generate(name=\"{0}x{1}_{2}\".format(i, j, k))\n",
    "            full_table.save(\"output/\")"
   ]
  },
  {
   "cell_type": "code",
   "execution_count": null,
   "id": "d8e76b54-bd0c-4a5a-a609-558bf2c793a1",
   "metadata": {
    "pycharm": {
     "is_executing": true
    }
   },
   "outputs": [],
   "source": [
    "# With spans full width-height spans\n",
    "N_MIN_ROW = 4\n",
    "N_MAX_ROW = 8\n",
    "\n",
    "N_MIN_COL = 4\n",
    "N_MAX_COL = 8 \n",
    "\n",
    "TABLE_SIZE_I_J = 50\n",
    "\n",
    "\n",
    "for i in range(N_MIN_ROW, N_MAX_ROW):\n",
    "    for j in range(N_MIN_COL, N_MAX_COL):\n",
    "        # generate spans\n",
    "        if random.randint(0, 1) == 1:\n",
    "            # cols\n",
    "            vector_size = random.randint(0, j - 1)\n",
    "            merge_cols_indx = np.random.choice(j, vector_size, replace=False).tolist()\n",
    "            \n",
    "            table_structure = TableStructure([], merge_cols_indx)\n",
    "        else:\n",
    "            # rows\n",
    "            vector_size = random.randint(0, i - 1)\n",
    "            merge_rows_indx = np.random.choice(i, vector_size, replace=False).tolist()\n",
    "            \n",
    "            table_structure = TableStructure(merge_rows_indx, [])\n",
    "            \n",
    "        \n",
    "        html_generator = HTMLTableGenerator(word_generator, n_rows=i, n_cols=j, add_header=False, table_structure=table_structure)\n",
    "        random_table_generator = RandomTableGenerator(html_generator, css_generator)\n",
    "        for k in range(0, TABLE_SIZE_I_J):\n",
    "            full_table = random_table_generator.generate(name=\"{0}x{1}_{2}_span_{3}\".format(i, j, k, vector_size))\n",
    "            full_table.save(\"output_with_spans/\")"
   ]
  },
  {
   "cell_type": "code",
   "execution_count": null,
   "id": "a939dda3-0d03-4199-abba-aa0de25c9609",
   "metadata": {
    "pycharm": {
     "is_executing": true
    }
   },
   "outputs": [],
   "source": []
  },
  {
   "cell_type": "code",
   "execution_count": null,
   "id": "16883bcb-200a-4b51-a249-bc7a603794f6",
   "metadata": {
    "pycharm": {
     "is_executing": true
    }
   },
   "outputs": [],
   "source": [
    "# With spans full width-height spans\n",
    "N_MIN_ROW = 6\n",
    "N_MAX_ROW = 10\n",
    "\n",
    "N_MIN_COL = 6\n",
    "N_MAX_COL = 10\n",
    "\n",
    "TABLE_SIZE_I_J = 40\n",
    "\n",
    "\n",
    "for i in range(N_MIN_ROW, N_MAX_ROW):\n",
    "    for j in range(N_MIN_COL, N_MAX_COL):\n",
    "        table_structure = TableStructure([], [])\n",
    "        \n",
    "\n",
    "        table_structure = TableStructure([], [])\n",
    "        html_generator = HTMLTableGenerator(word_generator, n_rows=i, n_cols=j, add_header=False, table_structure=table_structure)\n",
    "        random_table_generator = RandomTableGenerator(html_generator, css_generator)\n",
    "        for k in range(0, TABLE_SIZE_I_J):\n",
    "            \n",
    "            col_merge_indx = random.randint(0, j - 2)\n",
    "            col_span_size = random.randint(0, j - col_merge_indx - 2) + 2\n",
    "            col_span_indx = {col_merge_indx: col_span_size}\n",
    "\n",
    "\n",
    "            row_merge_indx = random.randint(0, i - 2)\n",
    "            row_span_size = random.randint(0, i - row_merge_indx - 2) + 2\n",
    "            row_span_indx = {row_merge_indx: row_span_size}\n",
    "            \n",
    "            span_generator = SpanGenerator(col_indxes=col_span_indx, row_indxes=row_span_indx)\n",
    "            \n",
    "            if col_merge_indx == 0 and row_merge_indx == 0:\n",
    "                print(\"col_merge_indx == row_merge_indx == 0\")\n",
    "                continue\n",
    "                \n",
    "                \n",
    "            full_table = random_table_generator.generate(name=\"{0}x{1}_{2}_row_{3}_col_{4}\".format(i, j, k, row_merge_indx, col_merge_indx))\n",
    "            try:\n",
    "                full_table.html = span_generator.add_spans(full_table.html)\n",
    "            except:\n",
    "                print(f\"I: {i}, J: {j}, col_span_indx: {col_span_indx}, row_span_indx: {row_span_indx}\")\n",
    "                continue\n",
    "            full_table.save(\"output_with_header_spans/\")"
   ]
  },
  {
   "cell_type": "code",
   "execution_count": null,
   "id": "c85391f9-23e6-41d8-8a31-5cdba5c11509",
   "metadata": {
    "pycharm": {
     "is_executing": true
    }
   },
   "outputs": [],
   "source": [
    "full_table.html"
   ]
  },
  {
   "cell_type": "code",
   "execution_count": null,
   "id": "6510e5af-9a40-4883-8f49-f7d7cd3a2836",
   "metadata": {
    "pycharm": {
     "is_executing": true
    }
   },
   "outputs": [],
   "source": []
  },
  {
   "cell_type": "code",
   "execution_count": null,
   "id": "ba9fdec4-d658-4e2f-b2f9-2a3f7685eeb9",
   "metadata": {
    "pycharm": {
     "is_executing": true
    }
   },
   "outputs": [],
   "source": []
  },
  {
   "cell_type": "code",
   "execution_count": null,
   "id": "ccaea189-07fa-4393-81a2-b69e1a0d324f",
   "metadata": {
    "pycharm": {
     "is_executing": true
    }
   },
   "outputs": [],
   "source": []
  },
  {
   "cell_type": "code",
   "execution_count": null,
   "id": "50111a7a-0d69-401c-81b9-06f234ad8cc1",
   "metadata": {
    "pycharm": {
     "is_executing": true
    }
   },
   "outputs": [],
   "source": []
  },
  {
   "cell_type": "code",
   "execution_count": null,
   "id": "8a50a70f-c455-45f8-9ec6-3eb3a95d2293",
   "metadata": {
    "pycharm": {
     "is_executing": true
    }
   },
   "outputs": [],
   "source": [
    "ROOT_DATA = \"output_with_header_spans/\"\n",
    "chrome_options = Options()\n",
    "chrome_options.add_argument(\"disable-extensions\")\n",
    "chrome_options.add_argument(\"window-position=0,0\")\n",
    "chrome_options.add_argument(\"--hide-scrollbars\")\n",
    "\n",
    "chrome_options.add_argument(\"headless\")\n",
    "\n",
    "table_parser = TableParser(chrome_options)\n",
    "\n",
    "parsed_tables = []\n",
    "for table_path in [file_name for file_name in os.listdir(ROOT_DATA)]:\n",
    "    if table_path.startswith(\".\"):\n",
    "        continue\n",
    "    if \"table.png\" in os.listdir(ROOT_DATA + table_path):\n",
    "        continue\n",
    "    print(table_path)\n",
    "    parsed_table = table_parser.parse_table(ROOT_DATA + table_path)\n",
    "    parsed_tables.append(parsed_table)"
   ]
  },
  {
   "cell_type": "code",
   "execution_count": null,
   "id": "2187f549-307e-4f1b-a3fb-c775dcdd52aa",
   "metadata": {
    "pycharm": {
     "is_executing": true
    }
   },
   "outputs": [],
   "source": [
    "for parsed_table in parsed_tables:\n",
    "    parsed_table.to_annotations()"
   ]
  },
  {
   "cell_type": "code",
   "execution_count": null,
   "id": "aacb2b39-2997-45db-a653-923ccfb621b8",
   "metadata": {
    "pycharm": {
     "is_executing": true
    }
   },
   "outputs": [],
   "source": [
    "for parsed_table in parsed_tables[:10]:\n",
    "    plt.figure(figsize=(16, 16))\n",
    "    plt.imshow(parsed_table.draw_bboxes())\n",
    "    plt.show()"
   ]
  },
  {
   "cell_type": "code",
   "execution_count": null,
   "id": "8cc7d99b-0096-4693-89bb-3510dcda50b4",
   "metadata": {
    "pycharm": {
     "is_executing": true
    }
   },
   "outputs": [],
   "source": []
  },
  {
   "cell_type": "code",
   "execution_count": null,
   "id": "b357b321-4be1-4515-86df-2f8de9bb711e",
   "metadata": {
    "pycharm": {
     "is_executing": true
    }
   },
   "outputs": [],
   "source": []
  },
  {
   "cell_type": "code",
   "execution_count": null,
   "id": "594d2842-4976-47a8-b8fa-ff19c6ddadc4",
   "metadata": {
    "pycharm": {
     "is_executing": true
    }
   },
   "outputs": [],
   "source": []
  },
  {
   "cell_type": "code",
   "execution_count": null,
   "id": "c9de9f6a-3cb6-476b-be75-61da60e810ea",
   "metadata": {
    "pycharm": {
     "is_executing": true
    }
   },
   "outputs": [],
   "source": []
  },
  {
   "cell_type": "code",
   "execution_count": null,
   "id": "262a0a52-df82-4b33-b3dc-216d86745b33",
   "metadata": {
    "pycharm": {
     "is_executing": true
    }
   },
   "outputs": [],
   "source": []
  }
 ],
 "metadata": {
  "kernelspec": {
   "display_name": "Python 3 (ipykernel)",
   "language": "python",
   "name": "python3"
  },
  "language_info": {
   "codemirror_mode": {
    "name": "ipython",
    "version": 3
   },
   "file_extension": ".py",
   "mimetype": "text/x-python",
   "name": "python",
   "nbconvert_exporter": "python",
   "pygments_lexer": "ipython3",
   "version": "3.9.7"
  }
 },
 "nbformat": 4,
 "nbformat_minor": 5
}
